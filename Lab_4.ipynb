{
 "cells": [
  {
   "cell_type": "markdown",
   "id": "9473bf19",
   "metadata": {},
   "source": [
    "# Lab 4: Data Wrangling and Exploratory Data Analysis"
   ]
  },
  {
   "cell_type": "markdown",
   "id": "3f42861a",
   "metadata": {},
   "source": [
    "# Lab Instructions and Learning Objectives\n",
    "\n",
    "Don't delete any of the cells in this notebook, and add markdown/code cells when asked."
   ]
  },
  {
   "cell_type": "markdown",
   "id": "f926de9f",
   "metadata": {},
   "source": [
    "# How to submit"
   ]
  },
  {
   "cell_type": "markdown",
   "id": "ba2972ff",
   "metadata": {},
   "source": [
    "1. Download this notebook using menu item `File —> Download As —> Notebook (.ipynb)`. Save it as Lab_4.ipynb.\n",
    "\n",
    "\n",
    "2. Log in here: https://markus-ds.teach.cs.toronto.edu (Tip: Control/Command-click to open it in a new tab so you can still see these instructions.)\n",
    "\n",
    "\n",
    "3. Choose your course.\n",
    "\n",
    "\n",
    "4. Click the lab4: Lab week 4 assessment.\n",
    "\n",
    "\n",
    "5. Click the `Submissions` tab. The new page is `lab4: Submissions`.\n",
    "\n",
    "\n",
    "6. Click button `Upload File` on the bottom right.\n",
    "\n",
    "\n",
    "7. Click button `Choose Files`.\n",
    "\n",
    "\n",
    "8. Select the `Lab_4.ipynb` file that you downloaded, then click Save.\n",
    "\n"
   ]
  },
  {
   "cell_type": "markdown",
   "id": "4088aed4",
   "metadata": {},
   "source": [
    "# Due Date\n",
    "\n",
    "Friday, February 4 at 10:00 AM.\n"
   ]
  },
  {
   "cell_type": "markdown",
   "id": "7c8afce9",
   "metadata": {},
   "source": [
    "# Marking Rubric\n",
    "\n",
    "All questions will be autograded.  1 mark will be given for the correct values, and 0 marks will be given for incorrect values.\n",
    "\n",
    "**NB: Be sure to use the variable names that you are asked to use in the question.  Otherwise, the auto grading program will not be able to check if you obtained the correct values.**"
   ]
  },
  {
   "cell_type": "markdown",
   "id": "5999d568",
   "metadata": {},
   "source": [
    "## Lab 4 Introduction"
   ]
  },
  {
   "cell_type": "markdown",
   "id": "50beeaf8",
   "metadata": {},
   "source": [
    "In this lab, you will continue to work with data from week 3 class: Statistics Canada General Social Survey's (GSS) Time Use (TU) Survery Main File. This week you will continue to work with boolean conditions and multiple conditions, in order to create subset data sets to visualize data on.\n",
    "\n",
    "As usual, these labs are meant to facilitate your understanding of the material from lectures in a low-stakes environment. Please feel free to refer to your lecture content, collaborate with your peers, and seek out help from your TAs."
   ]
  },
  {
   "cell_type": "markdown",
   "id": "4610f309",
   "metadata": {},
   "source": [
    "# Question 1"
   ]
  },
  {
   "cell_type": "markdown",
   "id": "a84b812f-b2ad-45b3-b8ac-438095822806",
   "metadata": {},
   "source": [
    "- Read the file `time_data.csv` into a `DataFrame` named `time_data`. __(1 mark)__\n",
    "- What is `shape` of `time_data`? __(1 mark)__"
   ]
  },
  {
   "cell_type": "code",
   "execution_count": null,
   "id": "648df46d-334d-4c46-845a-ad90e3e9afba",
   "metadata": {},
   "outputs": [],
   "source": [
    "# place your answer in this cell"
   ]
  },
  {
   "cell_type": "markdown",
   "id": "a1213dee",
   "metadata": {
    "tags": []
   },
   "source": [
    "# Question 2"
   ]
  },
  {
   "cell_type": "markdown",
   "id": "ec9d2678-7740-4a1a-a712-274c4a181570",
   "metadata": {},
   "source": [
    "Add a column named `'kids_count'` to `time_data` that has the values __(1 mark)__\n",
    "   + `True` when the participant has fewer than two kids\n",
    "   + `False` when the participant has two or more kids\n",
    "   \n",
    "Now, use the `'kids_count'` column and the `value_counts` function to calculate\n",
    "\n",
    "+ the number of respondents with less than 2 kids. Name it `less_than_2`  __(1 mark)__ \n",
    "+ the number of respondents with 2 or more kids. Name it `more_than_2` __(1 mark)__"
   ]
  },
  {
   "cell_type": "code",
   "execution_count": null,
   "id": "39d51b14",
   "metadata": {},
   "outputs": [],
   "source": [
    "# place your answer in this cell"
   ]
  },
  {
   "cell_type": "markdown",
   "id": "c75637e2-ec54-46d6-99d4-5ddfbf68be53",
   "metadata": {},
   "source": [
    "# Question 3"
   ]
  },
  {
   "cell_type": "markdown",
   "id": "b55f209e-e30f-450d-a620-904e14b77d79",
   "metadata": {},
   "source": [
    "Use the variables `less_than_2` and `more_than_2` from the previous question to compute the percentage of respondents with 2 or more kids. Use the pandas `round` function to round the result to two decimal places.  Name the resulting percentage `prop_kids`.  __(1 mark)__"
   ]
  },
  {
   "cell_type": "code",
   "execution_count": null,
   "id": "7ed6dd93-3eb9-4a95-9ad8-34df470099e0",
   "metadata": {},
   "outputs": [],
   "source": [
    "#place your answer in this cell"
   ]
  },
  {
   "cell_type": "markdown",
   "id": "96d9a71e-4d95-4d25-957f-83f3a57aab8f",
   "metadata": {},
   "source": [
    "# Question 4"
   ]
  },
  {
   "cell_type": "markdown",
   "id": "3791c03b",
   "metadata": {},
   "source": [
    "Use `time_data` to answer the following question.  \n",
    "\n",
    "When the `'Urban/Rural'` column is `2` then respondents live in a rural area.\n",
    "\n",
    "Use the `'kids_count'` column to create a bar plot for respondents that live in rural areas.  Name the bar plot `rural_barplot`. __(1 mark)__"
   ]
  },
  {
   "cell_type": "code",
   "execution_count": null,
   "id": "04222f3b",
   "metadata": {},
   "outputs": [],
   "source": [
    "# place your answer in this cell "
   ]
  },
  {
   "cell_type": "markdown",
   "id": "2a303a3e-1376-4e10-8a4a-2c949ae1c4f2",
   "metadata": {},
   "source": [
    "# Question 5"
   ]
  },
  {
   "cell_type": "markdown",
   "id": "d4dd5d11-6ea4-4a52-8483-6479ea47306c",
   "metadata": {},
   "source": [
    "Use `time_data` to answer the following question.  \n",
    "\n",
    "Create a crosstabulation of the columns `'Urban/Rural'` and `'kids_count'` and name the crosstab `URkids_ct`.  The rows of the crosstabulation should correspond to `'Urban/Rural'` and the columns should correspond to `'kids_count'`. __(1 mark)__"
   ]
  },
  {
   "cell_type": "code",
   "execution_count": null,
   "id": "a831b94f-f9fd-4d96-b819-7828879c5c73",
   "metadata": {},
   "outputs": [],
   "source": [
    "# place your answer here"
   ]
  },
  {
   "cell_type": "markdown",
   "id": "bcdcfa42-a688-4952-92df-9e61d60e7706",
   "metadata": {},
   "source": [
    "# Question 6"
   ]
  },
  {
   "cell_type": "markdown",
   "id": "ca0c340b-caae-4df9-b3db-1cd15284e295",
   "metadata": {},
   "source": [
    "<mark> This question was updated on Feb. 2 </mark>\n",
    "\n",
    "Use `'URkids_ct'` in the previous question to get the *proportion* of respondents that have ~~fewer than~~ 2 or more kids among respondents that live in large urban areas (`'Urban/Rural'` values equal to 1).  Follow these steps to compute the proportion:\n",
    "\n",
    "\n",
    "\n",
    "1. Extract the total number respondents from `URkids_ct` using `.iloc` where `'Urban_rural'` is `1` and `'kids_count'` is `False`. Name the result `numerator`. __(1 mark)__\n",
    "\n",
    "2. Compute the total number of respondents from `URkids_ct` using `.iloc` and the pandas `sum` function.  Name this value `denominator`. __(1 mark)__\n",
    "\n",
    "3. Compute the proportion using 1. and 2. and name the result `cityfewkids`. __(1 mark)__"
   ]
  },
  {
   "cell_type": "code",
   "execution_count": null,
   "id": "5b19e25f",
   "metadata": {},
   "outputs": [],
   "source": [
    "# Place your answer in this cell. "
   ]
  }
 ],
 "metadata": {
  "kernelspec": {
   "display_name": "Python 3 (ipykernel)",
   "language": "python",
   "name": "python3"
  },
  "language_info": {
   "codemirror_mode": {
    "name": "ipython",
    "version": 3
   },
   "file_extension": ".py",
   "mimetype": "text/x-python",
   "name": "python",
   "nbconvert_exporter": "python",
   "pygments_lexer": "ipython3",
   "version": "3.8.8"
  }
 },
 "nbformat": 4,
 "nbformat_minor": 5
}
